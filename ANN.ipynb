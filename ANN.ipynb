{
  "nbformat": 4,
  "nbformat_minor": 0,
  "metadata": {
    "colab": {
      "provenance": [],
      "gpuType": "T4",
      "authorship_tag": "ABX9TyNo9JaO6etetpHBT99hFLoG",
      "include_colab_link": true
    },
    "kernelspec": {
      "name": "python3",
      "display_name": "Python 3"
    },
    "language_info": {
      "name": "python"
    },
    "accelerator": "GPU"
  },
  "cells": [
    {
      "cell_type": "markdown",
      "metadata": {
        "id": "view-in-github",
        "colab_type": "text"
      },
      "source": [
        "<a href=\"https://colab.research.google.com/github/Ankit777767/ANN_from_scratch-EDA/blob/main/ANN.ipynb\" target=\"_parent\"><img src=\"https://colab.research.google.com/assets/colab-badge.svg\" alt=\"Open In Colab\"/></a>"
      ]
    },
    {
      "cell_type": "markdown",
      "source": [
        "# ANN Model for prediction of daily energy consumption"
      ],
      "metadata": {
        "id": "JQmk_tiXcDEl"
      }
    },
    {
      "cell_type": "code",
      "execution_count": 1,
      "metadata": {
        "id": "AKeL6zSrb1fl"
      },
      "outputs": [],
      "source": [
        "# Import Various libraries\n",
        "import pandas as pd\n",
        "import numpy as np\n",
        "from sklearn.model_selection import train_test_split\n",
        "from sklearn.preprocessing import StandardScaler\n",
        "import torch\n",
        "import torch.nn as nn\n",
        "import torch.optim as optim\n",
        "from torch.utils.data import DataLoader, TensorDataset\n",
        "import torchvision\n",
        "import seaborn as sns"
      ]
    },
    {
      "cell_type": "code",
      "source": [
        "!unzip /content/AEP_hourly.csv.zip"
      ],
      "metadata": {
        "colab": {
          "base_uri": "https://localhost:8080/"
        },
        "id": "xagVbTxADyCf",
        "outputId": "984baca1-e8ce-4a43-ac19-6b64c6acf8d4"
      },
      "execution_count": 3,
      "outputs": [
        {
          "output_type": "stream",
          "name": "stdout",
          "text": [
            "Archive:  /content/AEP_hourly.csv.zip\n",
            "  inflating: AEP_hourly.csv          \n"
          ]
        }
      ]
    },
    {
      "cell_type": "markdown",
      "source": [
        "# DATA Processing"
      ],
      "metadata": {
        "id": "zEZkeV4InVFh"
      }
    },
    {
      "cell_type": "code",
      "source": [
        "# Load dataset\n",
        "df = pd.read_csv('AEP_hourly.csv')"
      ],
      "metadata": {
        "id": "itnn9rRTfrXk"
      },
      "execution_count": 4,
      "outputs": []
    },
    {
      "cell_type": "code",
      "source": [
        "# Extract useful features from the datetime format\n",
        "df['Datetime'] = pd.to_datetime(df['Datetime'])\n",
        "df['hour'] = df['Datetime'].dt.hour\n",
        "df['day'] = df['Datetime'].dt.day\n",
        "df['weekday'] = df['Datetime'].dt.weekday\n",
        "df['month'] = df['Datetime'].dt.month\n",
        "df['year'] = df['Datetime'].dt.year\n",
        "df['is_weekend'] = df['weekday'].apply(lambda x: 1 if x >= 5 else 0) # on weekend it will give 1 value\n",
        "\n",
        "df.drop(columns=['Datetime'], inplace=True)\n"
      ],
      "metadata": {
        "id": "9WZVNN2GA5fa"
      },
      "execution_count": 5,
      "outputs": []
    },
    {
      "cell_type": "code",
      "source": [
        "# Hour: 0 to 23\n",
        "df['hour_sin'] = np.sin(2 * np.pi * df['hour'] / 24)\n",
        "df['hour_cos'] = np.cos(2 * np.pi * df['hour'] / 24)\n",
        "\n",
        "# Month: 1 to 12\n",
        "df['month_sin'] = np.sin(2 * np.pi * df['month'] / 12)\n",
        "df['month_cos'] = np.cos(2 * np.pi * df['month'] / 12)"
      ],
      "metadata": {
        "id": "M2KyI4LlEM7R"
      },
      "execution_count": 6,
      "outputs": []
    },
    {
      "cell_type": "code",
      "source": [
        "# EDA-Visualizations\n",
        "print('DATA PREVIEW')\n",
        "print(df.head())"
      ],
      "metadata": {
        "colab": {
          "base_uri": "https://localhost:8080/"
        },
        "id": "nTS5R5VGgWdU",
        "outputId": "71a90a06-36aa-426e-a969-49191c65c3e1"
      },
      "execution_count": 7,
      "outputs": [
        {
          "output_type": "stream",
          "name": "stdout",
          "text": [
            "DATA PREVIEW\n",
            "    AEP_MW  hour  day  weekday  month  year  is_weekend  hour_sin  hour_cos  \\\n",
            "0  13478.0     1   31        4     12  2004           0  0.258819  0.965926   \n",
            "1  12865.0     2   31        4     12  2004           0  0.500000  0.866025   \n",
            "2  12577.0     3   31        4     12  2004           0  0.707107  0.707107   \n",
            "3  12517.0     4   31        4     12  2004           0  0.866025  0.500000   \n",
            "4  12670.0     5   31        4     12  2004           0  0.965926  0.258819   \n",
            "\n",
            "      month_sin  month_cos  \n",
            "0 -2.449294e-16        1.0  \n",
            "1 -2.449294e-16        1.0  \n",
            "2 -2.449294e-16        1.0  \n",
            "3 -2.449294e-16        1.0  \n",
            "4 -2.449294e-16        1.0  \n"
          ]
        }
      ]
    },
    {
      "cell_type": "code",
      "source": [
        "print('Dataset Info')\n",
        "df.info()"
      ],
      "metadata": {
        "colab": {
          "base_uri": "https://localhost:8080/"
        },
        "id": "6kF3s1esgxWW",
        "outputId": "8ca239ee-ecfc-4b35-c996-74e8b6887918"
      },
      "execution_count": 8,
      "outputs": [
        {
          "output_type": "stream",
          "name": "stdout",
          "text": [
            "Dataset Info\n",
            "<class 'pandas.core.frame.DataFrame'>\n",
            "RangeIndex: 121273 entries, 0 to 121272\n",
            "Data columns (total 11 columns):\n",
            " #   Column      Non-Null Count   Dtype  \n",
            "---  ------      --------------   -----  \n",
            " 0   AEP_MW      121273 non-null  float64\n",
            " 1   hour        121273 non-null  int32  \n",
            " 2   day         121273 non-null  int32  \n",
            " 3   weekday     121273 non-null  int32  \n",
            " 4   month       121273 non-null  int32  \n",
            " 5   year        121273 non-null  int32  \n",
            " 6   is_weekend  121273 non-null  int64  \n",
            " 7   hour_sin    121273 non-null  float64\n",
            " 8   hour_cos    121273 non-null  float64\n",
            " 9   month_sin   121273 non-null  float64\n",
            " 10  month_cos   121273 non-null  float64\n",
            "dtypes: float64(5), int32(5), int64(1)\n",
            "memory usage: 7.9 MB\n"
          ]
        }
      ]
    },
    {
      "cell_type": "code",
      "source": [
        "# Check for missing values\n",
        "print('Missing Values: ')\n",
        "missing_values = df.isnull().sum()\n",
        "missing_values"
      ],
      "metadata": {
        "colab": {
          "base_uri": "https://localhost:8080/",
          "height": 446
        },
        "id": "CsrSptaKj5eT",
        "outputId": "3e2a8911-cd16-47d8-ba72-45716fff0f2e"
      },
      "execution_count": 9,
      "outputs": [
        {
          "output_type": "stream",
          "name": "stdout",
          "text": [
            "Missing Values: \n"
          ]
        },
        {
          "output_type": "execute_result",
          "data": {
            "text/plain": [
              "AEP_MW        0\n",
              "hour          0\n",
              "day           0\n",
              "weekday       0\n",
              "month         0\n",
              "year          0\n",
              "is_weekend    0\n",
              "hour_sin      0\n",
              "hour_cos      0\n",
              "month_sin     0\n",
              "month_cos     0\n",
              "dtype: int64"
            ],
            "text/html": [
              "<div>\n",
              "<style scoped>\n",
              "    .dataframe tbody tr th:only-of-type {\n",
              "        vertical-align: middle;\n",
              "    }\n",
              "\n",
              "    .dataframe tbody tr th {\n",
              "        vertical-align: top;\n",
              "    }\n",
              "\n",
              "    .dataframe thead th {\n",
              "        text-align: right;\n",
              "    }\n",
              "</style>\n",
              "<table border=\"1\" class=\"dataframe\">\n",
              "  <thead>\n",
              "    <tr style=\"text-align: right;\">\n",
              "      <th></th>\n",
              "      <th>0</th>\n",
              "    </tr>\n",
              "  </thead>\n",
              "  <tbody>\n",
              "    <tr>\n",
              "      <th>AEP_MW</th>\n",
              "      <td>0</td>\n",
              "    </tr>\n",
              "    <tr>\n",
              "      <th>hour</th>\n",
              "      <td>0</td>\n",
              "    </tr>\n",
              "    <tr>\n",
              "      <th>day</th>\n",
              "      <td>0</td>\n",
              "    </tr>\n",
              "    <tr>\n",
              "      <th>weekday</th>\n",
              "      <td>0</td>\n",
              "    </tr>\n",
              "    <tr>\n",
              "      <th>month</th>\n",
              "      <td>0</td>\n",
              "    </tr>\n",
              "    <tr>\n",
              "      <th>year</th>\n",
              "      <td>0</td>\n",
              "    </tr>\n",
              "    <tr>\n",
              "      <th>is_weekend</th>\n",
              "      <td>0</td>\n",
              "    </tr>\n",
              "    <tr>\n",
              "      <th>hour_sin</th>\n",
              "      <td>0</td>\n",
              "    </tr>\n",
              "    <tr>\n",
              "      <th>hour_cos</th>\n",
              "      <td>0</td>\n",
              "    </tr>\n",
              "    <tr>\n",
              "      <th>month_sin</th>\n",
              "      <td>0</td>\n",
              "    </tr>\n",
              "    <tr>\n",
              "      <th>month_cos</th>\n",
              "      <td>0</td>\n",
              "    </tr>\n",
              "  </tbody>\n",
              "</table>\n",
              "</div><br><label><b>dtype:</b> int64</label>"
            ]
          },
          "metadata": {},
          "execution_count": 9
        }
      ]
    },
    {
      "cell_type": "code",
      "source": [
        "# Correlation Matrix\n",
        "plt.figure(figsize=(10,8))\n",
        "sns.heatmap(df.corr(), annot=True, cmap='coolwarm')"
      ],
      "metadata": {
        "colab": {
          "base_uri": "https://localhost:8080/",
          "height": 176
        },
        "id": "XRUGDqpZ_Xee",
        "outputId": "baa337ce-961a-4b50-e2ac-33166adb51e4"
      },
      "execution_count": 10,
      "outputs": [
        {
          "output_type": "error",
          "ename": "NameError",
          "evalue": "name 'plt' is not defined",
          "traceback": [
            "\u001b[0;31m---------------------------------------------------------------------------\u001b[0m",
            "\u001b[0;31mNameError\u001b[0m                                 Traceback (most recent call last)",
            "\u001b[0;32m<ipython-input-10-bf28b1f6e8e7>\u001b[0m in \u001b[0;36m<cell line: 0>\u001b[0;34m()\u001b[0m\n\u001b[1;32m      1\u001b[0m \u001b[0;31m# Correlation Matrix\u001b[0m\u001b[0;34m\u001b[0m\u001b[0;34m\u001b[0m\u001b[0m\n\u001b[0;32m----> 2\u001b[0;31m \u001b[0mplt\u001b[0m\u001b[0;34m.\u001b[0m\u001b[0mfigure\u001b[0m\u001b[0;34m(\u001b[0m\u001b[0mfigsize\u001b[0m\u001b[0;34m=\u001b[0m\u001b[0;34m(\u001b[0m\u001b[0;36m10\u001b[0m\u001b[0;34m,\u001b[0m\u001b[0;36m8\u001b[0m\u001b[0;34m)\u001b[0m\u001b[0;34m)\u001b[0m\u001b[0;34m\u001b[0m\u001b[0;34m\u001b[0m\u001b[0m\n\u001b[0m\u001b[1;32m      3\u001b[0m \u001b[0msns\u001b[0m\u001b[0;34m.\u001b[0m\u001b[0mheatmap\u001b[0m\u001b[0;34m(\u001b[0m\u001b[0mdf\u001b[0m\u001b[0;34m.\u001b[0m\u001b[0mcorr\u001b[0m\u001b[0;34m(\u001b[0m\u001b[0;34m)\u001b[0m\u001b[0;34m,\u001b[0m \u001b[0mannot\u001b[0m\u001b[0;34m=\u001b[0m\u001b[0;32mTrue\u001b[0m\u001b[0;34m,\u001b[0m \u001b[0mcmap\u001b[0m\u001b[0;34m=\u001b[0m\u001b[0;34m'coolwarm'\u001b[0m\u001b[0;34m)\u001b[0m\u001b[0;34m\u001b[0m\u001b[0;34m\u001b[0m\u001b[0m\n",
            "\u001b[0;31mNameError\u001b[0m: name 'plt' is not defined"
          ]
        }
      ]
    },
    {
      "cell_type": "code",
      "source": [
        "# From the correlation heatmap, it can be seen that day and year have very low correlation z so these columns may be dropped\n",
        "df.drop(columns=['day','year'], inplace=True)\n",
        "# is_weekend and weekday creating redundancy, so one of them can also be dropped\n",
        "df.drop(columns = ['is_weekend'],inplace =True)"
      ],
      "metadata": {
        "id": "dE1Zc4XrGA8B"
      },
      "execution_count": 11,
      "outputs": []
    },
    {
      "cell_type": "code",
      "source": [
        "plt.figure(figsize=(10,6))\n",
        "sns.heatmap(df.corr(), annot=True, cmap='coolwarm')\n",
        "plt.title('Correlation Matrix')\n",
        "plt.show()"
      ],
      "metadata": {
        "colab": {
          "base_uri": "https://localhost:8080/",
          "height": 193
        },
        "id": "6OUfY3DlGo-X",
        "outputId": "9aaddac7-a265-4459-b425-572c7acf6829"
      },
      "execution_count": 12,
      "outputs": [
        {
          "output_type": "error",
          "ename": "NameError",
          "evalue": "name 'plt' is not defined",
          "traceback": [
            "\u001b[0;31m---------------------------------------------------------------------------\u001b[0m",
            "\u001b[0;31mNameError\u001b[0m                                 Traceback (most recent call last)",
            "\u001b[0;32m<ipython-input-12-90d14004209d>\u001b[0m in \u001b[0;36m<cell line: 0>\u001b[0;34m()\u001b[0m\n\u001b[0;32m----> 1\u001b[0;31m \u001b[0mplt\u001b[0m\u001b[0;34m.\u001b[0m\u001b[0mfigure\u001b[0m\u001b[0;34m(\u001b[0m\u001b[0mfigsize\u001b[0m\u001b[0;34m=\u001b[0m\u001b[0;34m(\u001b[0m\u001b[0;36m10\u001b[0m\u001b[0;34m,\u001b[0m\u001b[0;36m6\u001b[0m\u001b[0;34m)\u001b[0m\u001b[0;34m)\u001b[0m\u001b[0;34m\u001b[0m\u001b[0;34m\u001b[0m\u001b[0m\n\u001b[0m\u001b[1;32m      2\u001b[0m \u001b[0msns\u001b[0m\u001b[0;34m.\u001b[0m\u001b[0mheatmap\u001b[0m\u001b[0;34m(\u001b[0m\u001b[0mdf\u001b[0m\u001b[0;34m.\u001b[0m\u001b[0mcorr\u001b[0m\u001b[0;34m(\u001b[0m\u001b[0;34m)\u001b[0m\u001b[0;34m,\u001b[0m \u001b[0mannot\u001b[0m\u001b[0;34m=\u001b[0m\u001b[0;32mTrue\u001b[0m\u001b[0;34m,\u001b[0m \u001b[0mcmap\u001b[0m\u001b[0;34m=\u001b[0m\u001b[0;34m'coolwarm'\u001b[0m\u001b[0;34m)\u001b[0m\u001b[0;34m\u001b[0m\u001b[0;34m\u001b[0m\u001b[0m\n\u001b[1;32m      3\u001b[0m \u001b[0mplt\u001b[0m\u001b[0;34m.\u001b[0m\u001b[0mtitle\u001b[0m\u001b[0;34m(\u001b[0m\u001b[0;34m'Correlation Matrix'\u001b[0m\u001b[0;34m)\u001b[0m\u001b[0;34m\u001b[0m\u001b[0;34m\u001b[0m\u001b[0m\n\u001b[1;32m      4\u001b[0m \u001b[0mplt\u001b[0m\u001b[0;34m.\u001b[0m\u001b[0mshow\u001b[0m\u001b[0;34m(\u001b[0m\u001b[0;34m)\u001b[0m\u001b[0;34m\u001b[0m\u001b[0;34m\u001b[0m\u001b[0m\n",
            "\u001b[0;31mNameError\u001b[0m: name 'plt' is not defined"
          ]
        }
      ]
    },
    {
      "cell_type": "code",
      "source": [],
      "metadata": {
        "id": "W0d08NnpG3i9"
      },
      "execution_count": null,
      "outputs": []
    },
    {
      "cell_type": "code",
      "source": [
        "  #feature engineering\n",
        "  df.fillna(df.median(),inplace = True)"
      ],
      "metadata": {
        "id": "cjXCjK3ykrkF"
      },
      "execution_count": null,
      "outputs": []
    },
    {
      "cell_type": "code",
      "source": [
        "\n",
        "# Features and target selection\n",
        "X = df.drop(columns= ['AEP_MW'])\n",
        "y = df['AEP_MW']"
      ],
      "metadata": {
        "id": "OA9ekBytmSO0"
      },
      "execution_count": 13,
      "outputs": []
    },
    {
      "cell_type": "code",
      "source": [
        "df.rename(columns={'AEP_MW': 'EnergyConsumption'}, inplace=True)"
      ],
      "metadata": {
        "id": "sZd4horHqaP2"
      },
      "execution_count": 14,
      "outputs": []
    },
    {
      "cell_type": "code",
      "source": [],
      "metadata": {
        "id": "_TkcTiHzLTf2"
      },
      "execution_count": 14,
      "outputs": []
    },
    {
      "cell_type": "code",
      "source": [],
      "metadata": {
        "id": "Cq7my-wRmeMt"
      },
      "execution_count": 14,
      "outputs": []
    },
    {
      "cell_type": "code",
      "source": [],
      "metadata": {
        "id": "Wx0fYo4hI0YH"
      },
      "execution_count": 14,
      "outputs": []
    },
    {
      "cell_type": "code",
      "source": [],
      "metadata": {
        "id": "wC29LM6YJneC"
      },
      "execution_count": 14,
      "outputs": []
    },
    {
      "cell_type": "code",
      "source": [],
      "metadata": {
        "id": "ejDHOi4MKXr1"
      },
      "execution_count": 14,
      "outputs": []
    },
    {
      "cell_type": "code",
      "source": [
        "df  # range (-1,1)"
      ],
      "metadata": {
        "colab": {
          "base_uri": "https://localhost:8080/",
          "height": 424
        },
        "id": "PbtUOGfMqH37",
        "outputId": "3bf7010c-a94c-4fb5-fc13-9a4c5975e07a"
      },
      "execution_count": 15,
      "outputs": [
        {
          "output_type": "execute_result",
          "data": {
            "text/plain": [
              "        EnergyConsumption  hour  weekday  month  hour_sin  hour_cos  \\\n",
              "0                 13478.0     1        4     12  0.258819  0.965926   \n",
              "1                 12865.0     2        4     12  0.500000  0.866025   \n",
              "2                 12577.0     3        4     12  0.707107  0.707107   \n",
              "3                 12517.0     4        4     12  0.866025  0.500000   \n",
              "4                 12670.0     5        4     12  0.965926  0.258819   \n",
              "...                   ...   ...      ...    ...       ...       ...   \n",
              "121268            21089.0    20        0      1 -0.866025  0.500000   \n",
              "121269            20999.0    21        0      1 -0.707107  0.707107   \n",
              "121270            20820.0    22        0      1 -0.500000  0.866025   \n",
              "121271            20415.0    23        0      1 -0.258819  0.965926   \n",
              "121272            19993.0     0        1      1  0.000000  1.000000   \n",
              "\n",
              "           month_sin  month_cos  \n",
              "0      -2.449294e-16   1.000000  \n",
              "1      -2.449294e-16   1.000000  \n",
              "2      -2.449294e-16   1.000000  \n",
              "3      -2.449294e-16   1.000000  \n",
              "4      -2.449294e-16   1.000000  \n",
              "...              ...        ...  \n",
              "121268  5.000000e-01   0.866025  \n",
              "121269  5.000000e-01   0.866025  \n",
              "121270  5.000000e-01   0.866025  \n",
              "121271  5.000000e-01   0.866025  \n",
              "121272  5.000000e-01   0.866025  \n",
              "\n",
              "[121273 rows x 8 columns]"
            ],
            "text/html": [
              "\n",
              "  <div id=\"df-a83ed8a5-2e54-4fa7-9c94-d249d6f24cb4\" class=\"colab-df-container\">\n",
              "    <div>\n",
              "<style scoped>\n",
              "    .dataframe tbody tr th:only-of-type {\n",
              "        vertical-align: middle;\n",
              "    }\n",
              "\n",
              "    .dataframe tbody tr th {\n",
              "        vertical-align: top;\n",
              "    }\n",
              "\n",
              "    .dataframe thead th {\n",
              "        text-align: right;\n",
              "    }\n",
              "</style>\n",
              "<table border=\"1\" class=\"dataframe\">\n",
              "  <thead>\n",
              "    <tr style=\"text-align: right;\">\n",
              "      <th></th>\n",
              "      <th>EnergyConsumption</th>\n",
              "      <th>hour</th>\n",
              "      <th>weekday</th>\n",
              "      <th>month</th>\n",
              "      <th>hour_sin</th>\n",
              "      <th>hour_cos</th>\n",
              "      <th>month_sin</th>\n",
              "      <th>month_cos</th>\n",
              "    </tr>\n",
              "  </thead>\n",
              "  <tbody>\n",
              "    <tr>\n",
              "      <th>0</th>\n",
              "      <td>13478.0</td>\n",
              "      <td>1</td>\n",
              "      <td>4</td>\n",
              "      <td>12</td>\n",
              "      <td>0.258819</td>\n",
              "      <td>0.965926</td>\n",
              "      <td>-2.449294e-16</td>\n",
              "      <td>1.000000</td>\n",
              "    </tr>\n",
              "    <tr>\n",
              "      <th>1</th>\n",
              "      <td>12865.0</td>\n",
              "      <td>2</td>\n",
              "      <td>4</td>\n",
              "      <td>12</td>\n",
              "      <td>0.500000</td>\n",
              "      <td>0.866025</td>\n",
              "      <td>-2.449294e-16</td>\n",
              "      <td>1.000000</td>\n",
              "    </tr>\n",
              "    <tr>\n",
              "      <th>2</th>\n",
              "      <td>12577.0</td>\n",
              "      <td>3</td>\n",
              "      <td>4</td>\n",
              "      <td>12</td>\n",
              "      <td>0.707107</td>\n",
              "      <td>0.707107</td>\n",
              "      <td>-2.449294e-16</td>\n",
              "      <td>1.000000</td>\n",
              "    </tr>\n",
              "    <tr>\n",
              "      <th>3</th>\n",
              "      <td>12517.0</td>\n",
              "      <td>4</td>\n",
              "      <td>4</td>\n",
              "      <td>12</td>\n",
              "      <td>0.866025</td>\n",
              "      <td>0.500000</td>\n",
              "      <td>-2.449294e-16</td>\n",
              "      <td>1.000000</td>\n",
              "    </tr>\n",
              "    <tr>\n",
              "      <th>4</th>\n",
              "      <td>12670.0</td>\n",
              "      <td>5</td>\n",
              "      <td>4</td>\n",
              "      <td>12</td>\n",
              "      <td>0.965926</td>\n",
              "      <td>0.258819</td>\n",
              "      <td>-2.449294e-16</td>\n",
              "      <td>1.000000</td>\n",
              "    </tr>\n",
              "    <tr>\n",
              "      <th>...</th>\n",
              "      <td>...</td>\n",
              "      <td>...</td>\n",
              "      <td>...</td>\n",
              "      <td>...</td>\n",
              "      <td>...</td>\n",
              "      <td>...</td>\n",
              "      <td>...</td>\n",
              "      <td>...</td>\n",
              "    </tr>\n",
              "    <tr>\n",
              "      <th>121268</th>\n",
              "      <td>21089.0</td>\n",
              "      <td>20</td>\n",
              "      <td>0</td>\n",
              "      <td>1</td>\n",
              "      <td>-0.866025</td>\n",
              "      <td>0.500000</td>\n",
              "      <td>5.000000e-01</td>\n",
              "      <td>0.866025</td>\n",
              "    </tr>\n",
              "    <tr>\n",
              "      <th>121269</th>\n",
              "      <td>20999.0</td>\n",
              "      <td>21</td>\n",
              "      <td>0</td>\n",
              "      <td>1</td>\n",
              "      <td>-0.707107</td>\n",
              "      <td>0.707107</td>\n",
              "      <td>5.000000e-01</td>\n",
              "      <td>0.866025</td>\n",
              "    </tr>\n",
              "    <tr>\n",
              "      <th>121270</th>\n",
              "      <td>20820.0</td>\n",
              "      <td>22</td>\n",
              "      <td>0</td>\n",
              "      <td>1</td>\n",
              "      <td>-0.500000</td>\n",
              "      <td>0.866025</td>\n",
              "      <td>5.000000e-01</td>\n",
              "      <td>0.866025</td>\n",
              "    </tr>\n",
              "    <tr>\n",
              "      <th>121271</th>\n",
              "      <td>20415.0</td>\n",
              "      <td>23</td>\n",
              "      <td>0</td>\n",
              "      <td>1</td>\n",
              "      <td>-0.258819</td>\n",
              "      <td>0.965926</td>\n",
              "      <td>5.000000e-01</td>\n",
              "      <td>0.866025</td>\n",
              "    </tr>\n",
              "    <tr>\n",
              "      <th>121272</th>\n",
              "      <td>19993.0</td>\n",
              "      <td>0</td>\n",
              "      <td>1</td>\n",
              "      <td>1</td>\n",
              "      <td>0.000000</td>\n",
              "      <td>1.000000</td>\n",
              "      <td>5.000000e-01</td>\n",
              "      <td>0.866025</td>\n",
              "    </tr>\n",
              "  </tbody>\n",
              "</table>\n",
              "<p>121273 rows × 8 columns</p>\n",
              "</div>\n",
              "    <div class=\"colab-df-buttons\">\n",
              "\n",
              "  <div class=\"colab-df-container\">\n",
              "    <button class=\"colab-df-convert\" onclick=\"convertToInteractive('df-a83ed8a5-2e54-4fa7-9c94-d249d6f24cb4')\"\n",
              "            title=\"Convert this dataframe to an interactive table.\"\n",
              "            style=\"display:none;\">\n",
              "\n",
              "  <svg xmlns=\"http://www.w3.org/2000/svg\" height=\"24px\" viewBox=\"0 -960 960 960\">\n",
              "    <path d=\"M120-120v-720h720v720H120Zm60-500h600v-160H180v160Zm220 220h160v-160H400v160Zm0 220h160v-160H400v160ZM180-400h160v-160H180v160Zm440 0h160v-160H620v160ZM180-180h160v-160H180v160Zm440 0h160v-160H620v160Z\"/>\n",
              "  </svg>\n",
              "    </button>\n",
              "\n",
              "  <style>\n",
              "    .colab-df-container {\n",
              "      display:flex;\n",
              "      gap: 12px;\n",
              "    }\n",
              "\n",
              "    .colab-df-convert {\n",
              "      background-color: #E8F0FE;\n",
              "      border: none;\n",
              "      border-radius: 50%;\n",
              "      cursor: pointer;\n",
              "      display: none;\n",
              "      fill: #1967D2;\n",
              "      height: 32px;\n",
              "      padding: 0 0 0 0;\n",
              "      width: 32px;\n",
              "    }\n",
              "\n",
              "    .colab-df-convert:hover {\n",
              "      background-color: #E2EBFA;\n",
              "      box-shadow: 0px 1px 2px rgba(60, 64, 67, 0.3), 0px 1px 3px 1px rgba(60, 64, 67, 0.15);\n",
              "      fill: #174EA6;\n",
              "    }\n",
              "\n",
              "    .colab-df-buttons div {\n",
              "      margin-bottom: 4px;\n",
              "    }\n",
              "\n",
              "    [theme=dark] .colab-df-convert {\n",
              "      background-color: #3B4455;\n",
              "      fill: #D2E3FC;\n",
              "    }\n",
              "\n",
              "    [theme=dark] .colab-df-convert:hover {\n",
              "      background-color: #434B5C;\n",
              "      box-shadow: 0px 1px 3px 1px rgba(0, 0, 0, 0.15);\n",
              "      filter: drop-shadow(0px 1px 2px rgba(0, 0, 0, 0.3));\n",
              "      fill: #FFFFFF;\n",
              "    }\n",
              "  </style>\n",
              "\n",
              "    <script>\n",
              "      const buttonEl =\n",
              "        document.querySelector('#df-a83ed8a5-2e54-4fa7-9c94-d249d6f24cb4 button.colab-df-convert');\n",
              "      buttonEl.style.display =\n",
              "        google.colab.kernel.accessAllowed ? 'block' : 'none';\n",
              "\n",
              "      async function convertToInteractive(key) {\n",
              "        const element = document.querySelector('#df-a83ed8a5-2e54-4fa7-9c94-d249d6f24cb4');\n",
              "        const dataTable =\n",
              "          await google.colab.kernel.invokeFunction('convertToInteractive',\n",
              "                                                    [key], {});\n",
              "        if (!dataTable) return;\n",
              "\n",
              "        const docLinkHtml = 'Like what you see? Visit the ' +\n",
              "          '<a target=\"_blank\" href=https://colab.research.google.com/notebooks/data_table.ipynb>data table notebook</a>'\n",
              "          + ' to learn more about interactive tables.';\n",
              "        element.innerHTML = '';\n",
              "        dataTable['output_type'] = 'display_data';\n",
              "        await google.colab.output.renderOutput(dataTable, element);\n",
              "        const docLink = document.createElement('div');\n",
              "        docLink.innerHTML = docLinkHtml;\n",
              "        element.appendChild(docLink);\n",
              "      }\n",
              "    </script>\n",
              "  </div>\n",
              "\n",
              "\n",
              "<div id=\"df-1145b26b-017c-4218-8ae6-cf48623c8c9f\">\n",
              "  <button class=\"colab-df-quickchart\" onclick=\"quickchart('df-1145b26b-017c-4218-8ae6-cf48623c8c9f')\"\n",
              "            title=\"Suggest charts\"\n",
              "            style=\"display:none;\">\n",
              "\n",
              "<svg xmlns=\"http://www.w3.org/2000/svg\" height=\"24px\"viewBox=\"0 0 24 24\"\n",
              "     width=\"24px\">\n",
              "    <g>\n",
              "        <path d=\"M19 3H5c-1.1 0-2 .9-2 2v14c0 1.1.9 2 2 2h14c1.1 0 2-.9 2-2V5c0-1.1-.9-2-2-2zM9 17H7v-7h2v7zm4 0h-2V7h2v10zm4 0h-2v-4h2v4z\"/>\n",
              "    </g>\n",
              "</svg>\n",
              "  </button>\n",
              "\n",
              "<style>\n",
              "  .colab-df-quickchart {\n",
              "      --bg-color: #E8F0FE;\n",
              "      --fill-color: #1967D2;\n",
              "      --hover-bg-color: #E2EBFA;\n",
              "      --hover-fill-color: #174EA6;\n",
              "      --disabled-fill-color: #AAA;\n",
              "      --disabled-bg-color: #DDD;\n",
              "  }\n",
              "\n",
              "  [theme=dark] .colab-df-quickchart {\n",
              "      --bg-color: #3B4455;\n",
              "      --fill-color: #D2E3FC;\n",
              "      --hover-bg-color: #434B5C;\n",
              "      --hover-fill-color: #FFFFFF;\n",
              "      --disabled-bg-color: #3B4455;\n",
              "      --disabled-fill-color: #666;\n",
              "  }\n",
              "\n",
              "  .colab-df-quickchart {\n",
              "    background-color: var(--bg-color);\n",
              "    border: none;\n",
              "    border-radius: 50%;\n",
              "    cursor: pointer;\n",
              "    display: none;\n",
              "    fill: var(--fill-color);\n",
              "    height: 32px;\n",
              "    padding: 0;\n",
              "    width: 32px;\n",
              "  }\n",
              "\n",
              "  .colab-df-quickchart:hover {\n",
              "    background-color: var(--hover-bg-color);\n",
              "    box-shadow: 0 1px 2px rgba(60, 64, 67, 0.3), 0 1px 3px 1px rgba(60, 64, 67, 0.15);\n",
              "    fill: var(--button-hover-fill-color);\n",
              "  }\n",
              "\n",
              "  .colab-df-quickchart-complete:disabled,\n",
              "  .colab-df-quickchart-complete:disabled:hover {\n",
              "    background-color: var(--disabled-bg-color);\n",
              "    fill: var(--disabled-fill-color);\n",
              "    box-shadow: none;\n",
              "  }\n",
              "\n",
              "  .colab-df-spinner {\n",
              "    border: 2px solid var(--fill-color);\n",
              "    border-color: transparent;\n",
              "    border-bottom-color: var(--fill-color);\n",
              "    animation:\n",
              "      spin 1s steps(1) infinite;\n",
              "  }\n",
              "\n",
              "  @keyframes spin {\n",
              "    0% {\n",
              "      border-color: transparent;\n",
              "      border-bottom-color: var(--fill-color);\n",
              "      border-left-color: var(--fill-color);\n",
              "    }\n",
              "    20% {\n",
              "      border-color: transparent;\n",
              "      border-left-color: var(--fill-color);\n",
              "      border-top-color: var(--fill-color);\n",
              "    }\n",
              "    30% {\n",
              "      border-color: transparent;\n",
              "      border-left-color: var(--fill-color);\n",
              "      border-top-color: var(--fill-color);\n",
              "      border-right-color: var(--fill-color);\n",
              "    }\n",
              "    40% {\n",
              "      border-color: transparent;\n",
              "      border-right-color: var(--fill-color);\n",
              "      border-top-color: var(--fill-color);\n",
              "    }\n",
              "    60% {\n",
              "      border-color: transparent;\n",
              "      border-right-color: var(--fill-color);\n",
              "    }\n",
              "    80% {\n",
              "      border-color: transparent;\n",
              "      border-right-color: var(--fill-color);\n",
              "      border-bottom-color: var(--fill-color);\n",
              "    }\n",
              "    90% {\n",
              "      border-color: transparent;\n",
              "      border-bottom-color: var(--fill-color);\n",
              "    }\n",
              "  }\n",
              "</style>\n",
              "\n",
              "  <script>\n",
              "    async function quickchart(key) {\n",
              "      const quickchartButtonEl =\n",
              "        document.querySelector('#' + key + ' button');\n",
              "      quickchartButtonEl.disabled = true;  // To prevent multiple clicks.\n",
              "      quickchartButtonEl.classList.add('colab-df-spinner');\n",
              "      try {\n",
              "        const charts = await google.colab.kernel.invokeFunction(\n",
              "            'suggestCharts', [key], {});\n",
              "      } catch (error) {\n",
              "        console.error('Error during call to suggestCharts:', error);\n",
              "      }\n",
              "      quickchartButtonEl.classList.remove('colab-df-spinner');\n",
              "      quickchartButtonEl.classList.add('colab-df-quickchart-complete');\n",
              "    }\n",
              "    (() => {\n",
              "      let quickchartButtonEl =\n",
              "        document.querySelector('#df-1145b26b-017c-4218-8ae6-cf48623c8c9f button');\n",
              "      quickchartButtonEl.style.display =\n",
              "        google.colab.kernel.accessAllowed ? 'block' : 'none';\n",
              "    })();\n",
              "  </script>\n",
              "</div>\n",
              "\n",
              "  <div id=\"id_084cf352-c969-4b30-af0e-fd2e06d8110d\">\n",
              "    <style>\n",
              "      .colab-df-generate {\n",
              "        background-color: #E8F0FE;\n",
              "        border: none;\n",
              "        border-radius: 50%;\n",
              "        cursor: pointer;\n",
              "        display: none;\n",
              "        fill: #1967D2;\n",
              "        height: 32px;\n",
              "        padding: 0 0 0 0;\n",
              "        width: 32px;\n",
              "      }\n",
              "\n",
              "      .colab-df-generate:hover {\n",
              "        background-color: #E2EBFA;\n",
              "        box-shadow: 0px 1px 2px rgba(60, 64, 67, 0.3), 0px 1px 3px 1px rgba(60, 64, 67, 0.15);\n",
              "        fill: #174EA6;\n",
              "      }\n",
              "\n",
              "      [theme=dark] .colab-df-generate {\n",
              "        background-color: #3B4455;\n",
              "        fill: #D2E3FC;\n",
              "      }\n",
              "\n",
              "      [theme=dark] .colab-df-generate:hover {\n",
              "        background-color: #434B5C;\n",
              "        box-shadow: 0px 1px 3px 1px rgba(0, 0, 0, 0.15);\n",
              "        filter: drop-shadow(0px 1px 2px rgba(0, 0, 0, 0.3));\n",
              "        fill: #FFFFFF;\n",
              "      }\n",
              "    </style>\n",
              "    <button class=\"colab-df-generate\" onclick=\"generateWithVariable('df')\"\n",
              "            title=\"Generate code using this dataframe.\"\n",
              "            style=\"display:none;\">\n",
              "\n",
              "  <svg xmlns=\"http://www.w3.org/2000/svg\" height=\"24px\"viewBox=\"0 0 24 24\"\n",
              "       width=\"24px\">\n",
              "    <path d=\"M7,19H8.4L18.45,9,17,7.55,7,17.6ZM5,21V16.75L18.45,3.32a2,2,0,0,1,2.83,0l1.4,1.43a1.91,1.91,0,0,1,.58,1.4,1.91,1.91,0,0,1-.58,1.4L9.25,21ZM18.45,9,17,7.55Zm-12,3A5.31,5.31,0,0,0,4.9,8.1,5.31,5.31,0,0,0,1,6.5,5.31,5.31,0,0,0,4.9,4.9,5.31,5.31,0,0,0,6.5,1,5.31,5.31,0,0,0,8.1,4.9,5.31,5.31,0,0,0,12,6.5,5.46,5.46,0,0,0,6.5,12Z\"/>\n",
              "  </svg>\n",
              "    </button>\n",
              "    <script>\n",
              "      (() => {\n",
              "      const buttonEl =\n",
              "        document.querySelector('#id_084cf352-c969-4b30-af0e-fd2e06d8110d button.colab-df-generate');\n",
              "      buttonEl.style.display =\n",
              "        google.colab.kernel.accessAllowed ? 'block' : 'none';\n",
              "\n",
              "      buttonEl.onclick = () => {\n",
              "        google.colab.notebook.generateWithVariable('df');\n",
              "      }\n",
              "      })();\n",
              "    </script>\n",
              "  </div>\n",
              "\n",
              "    </div>\n",
              "  </div>\n"
            ],
            "application/vnd.google.colaboratory.intrinsic+json": {
              "type": "dataframe",
              "variable_name": "df"
            }
          },
          "metadata": {},
          "execution_count": 15
        }
      ]
    },
    {
      "cell_type": "code",
      "source": [],
      "metadata": {
        "id": "guDzbL3VKgMn"
      },
      "execution_count": 15,
      "outputs": []
    },
    {
      "cell_type": "markdown",
      "source": [
        "# DATA PRE-PREPARATION FOR TRAINING"
      ],
      "metadata": {
        "id": "JFK5LcgKq4hb"
      }
    },
    {
      "cell_type": "code",
      "source": [
        "# standardization\n",
        "scaler = StandardScaler()\n",
        "X = scaler.fit_transform(X)\n",
        "y = scaler.fit_transform(y.values.reshape(-1, 1))"
      ],
      "metadata": {
        "id": "igOVCsSCqnK8"
      },
      "execution_count": 17,
      "outputs": []
    },
    {
      "cell_type": "code",
      "source": [
        "# Split into Training and Testing Sets\n",
        "X_train, X_test, y_train, y_test = train_test_split(X, y, test_size=0.2, shuffle=False)"
      ],
      "metadata": {
        "id": "Use4noSMs85y"
      },
      "execution_count": 18,
      "outputs": []
    },
    {
      "cell_type": "code",
      "source": [
        "# Convert numpy arrays to torch tensors\n",
        "X_train_tensor = torch.tensor(X_train, dtype=torch.float32)\n",
        "y_train_tensor = torch.tensor(y_train, dtype=torch.float32)\n",
        "X_test_tensor = torch.tensor(X_test, dtype=torch.float32)\n",
        "y_test_tensor = torch.tensor(y_test, dtype=torch.float32)"
      ],
      "metadata": {
        "id": "5HKRrnvNwIcs"
      },
      "execution_count": 19,
      "outputs": []
    },
    {
      "cell_type": "code",
      "source": [
        "# dataset & dataloaders\n",
        "batch_size = 64\n",
        "train_dataset = TensorDataset(X_train_tensor, y_train_tensor)\n",
        "test_dataset = TensorDataset(X_test_tensor, y_test_tensor)\n",
        "train_loader = DataLoader(train_dataset, batch_size=batch_size, shuffle=True)\n",
        "test_loader = DataLoader(test_dataset, batch_size=batch_size, shuffle=False)"
      ],
      "metadata": {
        "id": "Yh01apgYwzm3"
      },
      "execution_count": 20,
      "outputs": []
    },
    {
      "cell_type": "code",
      "source": [
        "# ANN Model Definition\n",
        "class EnergyANN(nn.Module):\n",
        "    def __init__(self, input_dim):\n",
        "        super(EnergyANN, self).__init__()\n",
        "        self.fc1 = nn.Linear(input_dim, 64)\n",
        "        self.bn1 = nn.BatchNorm1d(64)\n",
        "        self.fc2 = nn.Linear(64, 32)\n",
        "        self.bn2 = nn.BatchNorm1d(32)\n",
        "        self.fc3 = nn.Linear(32, 1)\n",
        "        self.dropout = nn.Dropout(0.3)\n",
        "        self.relu = nn.ReLU()\n",
        "\n",
        "    def forward(self, x):\n",
        "        x = self.relu(self.bn1(self.fc1(x)))\n",
        "        x = self.dropout(x)\n",
        "        x = self.relu(self.bn2(self.fc2(x)))\n",
        "        x = self.fc3(x)\n",
        "        return x"
      ],
      "metadata": {
        "id": "nwJ48LIwuzkm"
      },
      "execution_count": 21,
      "outputs": []
    },
    {
      "cell_type": "code",
      "source": [
        "# Model Initialization\n",
        "input_dim = X_train.shape[1]\n",
        "model = EnergyANN(input_dim)\n"
      ],
      "metadata": {
        "id": "QvRFWRpyNUFA"
      },
      "execution_count": 22,
      "outputs": []
    },
    {
      "cell_type": "code",
      "source": [
        "# LOSS FUNCTION & OPTIMIZER\n",
        "criterion = nn.MSELoss()\n",
        "optimizer = torch.optim.Adam(model.parameters(), lr=0.001)"
      ],
      "metadata": {
        "id": "FoNDP5ddzP0R"
      },
      "execution_count": 23,
      "outputs": []
    },
    {
      "cell_type": "code",
      "source": [
        "# Training the Model\n",
        "def train_model(model, X_train, y_train, epochs=100):\n",
        "    for epoch in range(epochs):\n",
        "        model.train()\n",
        "        optimizer.zero_grad()\n",
        "        outputs = model(X_train)\n",
        "        loss = criterion(outputs, y_train)\n",
        "        loss.backward()\n",
        "        optimizer.step()\n",
        "        if (epoch+1) % 10 == 0:\n",
        "            print(f'Epoch [{epoch+1}/{epochs}], Loss: {loss.item():.4f}')\n",
        "\n",
        "train_model(model, X_train_tensor, y_train_tensor, epochs=100)"
      ],
      "metadata": {
        "colab": {
          "base_uri": "https://localhost:8080/"
        },
        "id": "qLVNrhk8zdRY",
        "outputId": "1ec062de-b63c-402c-803c-fd37e430a223"
      },
      "execution_count": 24,
      "outputs": [
        {
          "output_type": "stream",
          "name": "stdout",
          "text": [
            "Epoch [10/100], Loss: 0.7013\n",
            "Epoch [20/100], Loss: 0.5902\n",
            "Epoch [30/100], Loss: 0.5280\n",
            "Epoch [40/100], Loss: 0.4913\n",
            "Epoch [50/100], Loss: 0.4674\n",
            "Epoch [60/100], Loss: 0.4493\n",
            "Epoch [70/100], Loss: 0.4352\n",
            "Epoch [80/100], Loss: 0.4243\n",
            "Epoch [90/100], Loss: 0.4165\n",
            "Epoch [100/100], Loss: 0.4076\n"
          ]
        }
      ]
    },
    {
      "cell_type": "code",
      "source": [
        "model.eval()\n",
        "with torch.no_grad():\n",
        "  X_test_tensor = X_test_tensor.view(X_test_tensor.size(0), -1)\n",
        "  test_output = model(X_test_tensor)\n",
        "  test_mseloss = criterion(test_output, y_test_tensor)\n",
        "  print(f'Test loss: {test_mseloss.item():.4f}')\n"
      ],
      "metadata": {
        "colab": {
          "base_uri": "https://localhost:8080/"
        },
        "id": "6o7F3lTy0rnO",
        "outputId": "1c54787e-d568-4f77-8a5f-7171a72074f7"
      },
      "execution_count": 30,
      "outputs": [
        {
          "output_type": "stream",
          "name": "stdout",
          "text": [
            "Test loss: 0.4651\n"
          ]
        }
      ]
    },
    {
      "cell_type": "code",
      "source": [
        "# Accuracy Calculation (R-Squared Score)\n",
        "def r2_score(y_true, y_pred):\n",
        "    ss_total = torch.sum((y_true - torch.mean(y_true)) ** 2)\n",
        "    ss_residual = torch.sum((y_true - y_pred) ** 2)\n",
        "    return 1 - (ss_residual / ss_total)\n",
        "\n",
        "r2 = r2_score(y_test_tensor, test_output)\n",
        "print(f'R-Squared Score: {r2.item():.4f}')"
      ],
      "metadata": {
        "colab": {
          "base_uri": "https://localhost:8080/"
        },
        "id": "H-aLadQwEjUG",
        "outputId": "77eb14b6-abd4-4034-99df-d4292ce989fe"
      },
      "execution_count": 34,
      "outputs": [
        {
          "output_type": "stream",
          "name": "stdout",
          "text": [
            "R-Squared Score: 0.5261\n"
          ]
        }
      ]
    },
    {
      "cell_type": "code",
      "source": [
        "# Save Model\n",
        "torch.save(model.state_dict(), \"energy_ann_model.pth\")\n",
        "print(\"Model saved successfully!\")"
      ],
      "metadata": {
        "colab": {
          "base_uri": "https://localhost:8080/"
        },
        "id": "H9s9qf9xE4dP",
        "outputId": "024635ae-a504-45ca-aec2-1128df169ceb"
      },
      "execution_count": 35,
      "outputs": [
        {
          "output_type": "stream",
          "name": "stdout",
          "text": [
            "Model saved successfully!\n"
          ]
        }
      ]
    },
    {
      "cell_type": "code",
      "source": [
        "import matplotlib.pyplot as plt\n",
        "y_test_actual = scaler.inverse_transform(y_test_tensor.numpy())\n",
        "test_output_actual = scaler.inverse_transform(test_output.numpy())\n",
        "plt.figure(figsize=(12,6))\n",
        "plt.plot(y_test_actual, label='Actual')\n",
        "plt.plot(test_output_actual, label='Predicted')\n",
        "plt.legend()\n",
        "plt.title('Actual vs. Predicted Energy Consumption')\n",
        "plt.show()\n"
      ],
      "metadata": {
        "colab": {
          "base_uri": "https://localhost:8080/",
          "height": 509
        },
        "id": "dX017TOS2gLw",
        "outputId": "d17a6809-b6b1-4b84-dc77-dcc38fdeeb8f"
      },
      "execution_count": 26,
      "outputs": [
        {
          "output_type": "display_data",
          "data": {
            "text/plain": [
              "<Figure size 1200x600 with 1 Axes>"
            ],
            "image/png": "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\n"
          },
          "metadata": {}
        }
      ]
    },
   
      ]
    },

  ]
}
